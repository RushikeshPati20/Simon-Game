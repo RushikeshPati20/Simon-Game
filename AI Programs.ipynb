{
 "cells": [
  {
   "cell_type": "markdown",
   "id": "bef2999c",
   "metadata": {},
   "source": [
    "Water-Jug"
   ]
  },
  {
   "cell_type": "code",
   "execution_count": 2,
   "id": "3f8aec0b",
   "metadata": {},
   "outputs": [
    {
     "name": "stdout",
     "output_type": "stream",
     "text": [
      "Path from initial state to solution state ::\n",
      "( 0 , 0 )\n",
      "( 0 , 3 )\n",
      "( 4 , 0 )\n",
      "( 4 , 3 )\n",
      "( 3 , 0 )\n",
      "( 1 , 3 )\n",
      "( 3 , 3 )\n",
      "( 4 , 2 )\n",
      "( 0 , 2 )\n"
     ]
    }
   ],
   "source": [
    "from collections import deque\n",
    "def Solution(a, b, target):\n",
    "    m = {}\n",
    "    isSolvable = False\n",
    "    path = []\n",
    "\n",
    "    q = deque()\n",
    "\n",
    "    q.append((0, 0))\n",
    "\n",
    "    while (len(q) > 0):\n",
    "\n",
    "        \n",
    "        u = q.popleft()\n",
    "        if ((u[0], u[1]) in m):\n",
    "            continue\n",
    "        if ((u[0] > a or u[1] > b or\n",
    "            u[0] < 0 or u[1] < 0)):\n",
    "            continue\n",
    "        path.append([u[0], u[1]])\n",
    "\n",
    "        m[(u[0], u[1])] = 1\n",
    "\n",
    "        if (u[0] == target or u[1] == target):\n",
    "            isSolvable = True\n",
    "\n",
    "            if (u[0] == target):\n",
    "                if (u[1] != 0):\n",
    "                    path.append([u[0], 0])\n",
    "            else:\n",
    "                if (u[0] != 0):\n",
    "\n",
    "                    path.append([0, u[1]])\n",
    "\n",
    "            sz = len(path)\n",
    "            for i in range(sz):\n",
    "                print(\"(\", path[i][0], \",\",\n",
    "                    path[i][1], \")\")\n",
    "            break\n",
    "\n",
    "        q.append([u[0], b])\n",
    "        q.append([a, u[1]])\n",
    "\n",
    "        for ap in range(max(a, b) + 1):\n",
    "            c = u[0] + ap\n",
    "            d = u[1] - ap\n",
    "\n",
    "            if (c == a or (d == 0 and d >= 0)):\n",
    "                q.append([c, d])\n",
    "\n",
    "            c = u[0] - ap\n",
    "            d = u[1] + ap\n",
    "\n",
    "            if ((c == 0 and c >= 0) or d == b):\n",
    "                q.append([c, d])\n",
    "\n",
    "        q.append([a, 0])\n",
    "\n",
    "        q.append([0, b])\n",
    "\n",
    "    if (not isSolvable):\n",
    "        print(\"Solution not possible\")\n",
    "\n",
    "if __name__ == '__main__':\n",
    "\n",
    "    Jug1, Jug2, target = 4, 3, 2\n",
    "    print(\"Path from initial state \"\n",
    "        \"to solution state ::\")\n",
    "\n",
    "    Solution(Jug1, Jug2, target)"
   ]
  },
  {
   "cell_type": "markdown",
   "id": "63712d64",
   "metadata": {},
   "source": [
    "BFS"
   ]
  },
  {
   "cell_type": "code",
   "execution_count": 3,
   "id": "57861434",
   "metadata": {},
   "outputs": [
    {
     "name": "stdout",
     "output_type": "stream",
     "text": [
      "Breadth-First Search starting from vertex A:\n",
      "A B C D E F "
     ]
    }
   ],
   "source": [
    "from collections import deque\n",
    "\n",
    "graph = {\n",
    "    'A': ['B', 'C'],\n",
    "    'B': ['A', 'D', 'E'],\n",
    "    'C': ['A', 'F'],\n",
    "    'D': ['B'],\n",
    "    'E': ['B', 'F'],\n",
    "    'F': ['C', 'E']\n",
    "}\n",
    "\n",
    "def bfs(graph, start):\n",
    "    visited = set()\n",
    "    queue = deque()\n",
    "    queue.append(start)\n",
    "\n",
    "    while queue:\n",
    "        vertex = queue.popleft()\n",
    "        if vertex not in visited:\n",
    "            print(vertex, end=' ')\n",
    "            visited.add(vertex)\n",
    "            queue.extend(neighbor for neighbor in graph[vertex] if neighbor not in visited)\n",
    "\n",
    "\n",
    "start_vertex = 'A'\n",
    "print(\"Breadth-First Search starting from vertex A:\")\n",
    "bfs(graph, start_vertex)\n"
   ]
  },
  {
   "cell_type": "markdown",
   "id": "6f90b69f",
   "metadata": {},
   "source": [
    "BFS using a Recursive Method"
   ]
  },
  {
   "cell_type": "code",
   "execution_count": 4,
   "id": "f393db33",
   "metadata": {},
   "outputs": [
    {
     "name": "stdout",
     "output_type": "stream",
     "text": [
      "['A', 'B', 'E', 'I', 'C', 'G', 'K', 'F', 'J', 'D', 'H']\n"
     ]
    }
   ],
   "source": [
    "def dfs_recursive(graph, source,path = []):  \n",
    "  \n",
    "       if source not in path:  \n",
    "           path.append(source)  \n",
    "  \n",
    "           if source not in graph:  \n",
    "               # leaf node, backtrack  \n",
    "               return path  \n",
    "  \n",
    "           for neighbour in graph[source]:  \n",
    "  \n",
    "               path = dfs_recursive(graph, neighbour, path)  \n",
    "  \n",
    "  \n",
    "       return path  \n",
    "         \n",
    "graph = {\"A\":[\"B\",\"C\",\"D\"],  \n",
    "   \"B\":[\"E\"],  \n",
    "   \"C\":[\"G\",\"F\"],  \n",
    "   \"D\":[\"H\"],  \n",
    "   \"E\":[\"I\"],  \n",
    "   \"F\":[\"J\"],  \n",
    "   \"G\":[\"K\"]}  \n",
    "dfs_element = dfs_recursive(graph, \"A\")  \n",
    "print(dfs_element)  \n"
   ]
  },
  {
   "cell_type": "markdown",
   "id": "d3b501c1",
   "metadata": {},
   "source": [
    "DFS"
   ]
  },
  {
   "cell_type": "code",
   "execution_count": 5,
   "id": "4147c5d1",
   "metadata": {},
   "outputs": [
    {
     "name": "stdout",
     "output_type": "stream",
     "text": [
      "Following is the Depth-First Search\n",
      "5\n",
      "3\n",
      "2\n",
      "4\n",
      "8\n",
      "7\n"
     ]
    }
   ],
   "source": [
    "graph = {\n",
    "  '5' : ['3','7'],\n",
    "  '3' : ['2', '4'],\n",
    "  '7' : ['8'],\n",
    "  '2' : [],\n",
    "  '4' : ['8'],\n",
    "  '8' : []\n",
    "}\n",
    "\n",
    "visited = set() \n",
    "\n",
    "def dfs(visited, graph, node):  \n",
    "    if node not in visited:\n",
    "        print (node)\n",
    "        visited.add(node)\n",
    "        for neighbour in graph[node]:\n",
    "            dfs(visited, graph, neighbour)\n",
    "\n",
    "print(\"Following is the Depth-First Search\")\n",
    "dfs(visited, graph, '5')\n"
   ]
  },
  {
   "cell_type": "markdown",
   "id": "8b290317",
   "metadata": {},
   "source": [
    "DFS using a Recursive Method"
   ]
  },
  {
   "cell_type": "code",
   "execution_count": 6,
   "id": "76d392ad",
   "metadata": {},
   "outputs": [
    {
     "name": "stdout",
     "output_type": "stream",
     "text": [
      "['A', 'B', 'E', 'I', 'C', 'G', 'K', 'F', 'J', 'D', 'H']\n"
     ]
    }
   ],
   "source": [
    "def dfs_recursive(graph, source,path = []):  \n",
    "  \n",
    "       if source not in path:  \n",
    "           path.append(source)  \n",
    "  \n",
    "           if source not in graph:  \n",
    "               # leaf node, backtrack  \n",
    "               return path  \n",
    "  \n",
    "           for neighbour in graph[source]:  \n",
    "  \n",
    "               path = dfs_recursive(graph, neighbour, path)  \n",
    "  \n",
    "  \n",
    "       return path  \n",
    "         \n",
    "graph = {\"A\":[\"B\",\"C\",\"D\"],  \n",
    "   \"B\":[\"E\"],  \n",
    "   \"C\":[\"G\",\"F\"],  \n",
    "   \"D\":[\"H\"],  \n",
    "   \"E\":[\"I\"],  \n",
    "   \"F\":[\"J\"],  \n",
    "   \"G\":[\"K\"]}  \n",
    "dfs_element = dfs_recursive(graph, \"A\")  \n",
    "print(dfs_element)\n"
   ]
  },
  {
   "cell_type": "markdown",
   "id": "82552dff",
   "metadata": {},
   "source": [
    "Simple Chatbot"
   ]
  },
  {
   "cell_type": "code",
   "execution_count": 9,
   "id": "b5edd371",
   "metadata": {},
   "outputs": [
    {
     "name": "stdout",
     "output_type": "stream",
     "text": [
      "hi\n",
      "hey\n",
      "quit\n"
     ]
    }
   ],
   "source": [
    "qna={\n",
    "    \"hi\":\"hey\",\n",
    "    \"how are you\":\"I am fine\",\n",
    "    \"what is your name\":\"my name is ram\",\n",
    "    \"how old are you\":\"I am 10 years old\"\n",
    "}\n",
    "while True:\n",
    "    qse=input()\n",
    "    if(qse==\"quit\"):\n",
    "        break\n",
    "    else:\n",
    "        print(qna[qse])"
   ]
  },
  {
   "cell_type": "markdown",
   "id": "534e81e9",
   "metadata": {},
   "source": [
    "Multiplication Table"
   ]
  },
  {
   "cell_type": "code",
   "execution_count": 8,
   "id": "42dec32d",
   "metadata": {},
   "outputs": [
    {
     "name": "stdout",
     "output_type": "stream",
     "text": [
      "Enter the multiplicand: 5\n",
      "Enter the maximum multiplier: 6\n",
      "5*0=0\n",
      "5*1=5\n",
      "5*2=10\n",
      "5*3=15\n",
      "5*4=20\n",
      "5*5=25\n",
      "5*6=30\n"
     ]
    }
   ],
   "source": [
    "multiplicand=int(input(\"Enter the multiplicand: \"))\n",
    "multiplier=int(input(\"Enter the maximum multiplier: \"))\n",
    "\n",
    "i=0\n",
    "while i<=multiplier:\n",
    "    print(f\"{multiplicand}*{i}={multiplicand * i}\")\n",
    "    i+=1"
   ]
  },
  {
   "cell_type": "markdown",
   "id": "c6c4420f",
   "metadata": {},
   "source": [
    "Travelling Salesman Problem"
   ]
  },
  {
   "cell_type": "code",
   "execution_count": 11,
   "id": "0eb991dd",
   "metadata": {},
   "outputs": [
    {
     "name": "stdout",
     "output_type": "stream",
     "text": [
      "80\n"
     ]
    }
   ],
   "source": [
    "from sys import maxsize\n",
    "from itertools import permutations\n",
    "V = 4\n",
    "\n",
    "def travellingSalesmanProblem(graph, s):\n",
    "    vertex = []\n",
    "    for i in range(V):\n",
    "        if i != s:\n",
    "            vertex.append(i)\n",
    "\n",
    "    min_path = maxsize\n",
    "    next_permutation=permutations(vertex)\n",
    "    for i in next_permutation:\n",
    "        current_pathweight = 0\n",
    "        k = s\n",
    "        for j in i:\n",
    "            current_pathweight += graph[k][j]\n",
    "            k = j\n",
    "        current_pathweight += graph[k][s]\n",
    "        min_path = min(min_path, current_pathweight)\n",
    "\n",
    "    return min_path\n",
    "\n",
    "\n",
    "if __name__ == \"__main__\":\n",
    "    graph = [[0, 10, 15, 20], [10, 0, 35, 25],\n",
    "            [15, 35, 0, 30], [20, 25, 30, 0]]\n",
    "    s = 0\n",
    "    print(travellingSalesmanProblem(graph, s))\n"
   ]
  },
  {
   "cell_type": "markdown",
   "id": "29e1a4ba",
   "metadata": {},
   "source": [
    "Factorial"
   ]
  },
  {
   "cell_type": "code",
   "execution_count": 12,
   "id": "f9192d11",
   "metadata": {},
   "outputs": [
    {
     "name": "stdout",
     "output_type": "stream",
     "text": [
      "Enter the number:5\n",
      "Factorial of 5 is 120\n"
     ]
    }
   ],
   "source": [
    "import math  \n",
    "def fact(n):  \n",
    "    return(math.factorial(n))  \n",
    "  \n",
    "num = int(input(\"Enter the number:\"))  \n",
    "f = fact(num)  \n",
    "print(\"Factorial of\", num, \"is\", f)  \n"
   ]
  },
  {
   "cell_type": "markdown",
   "id": "ece05f69",
   "metadata": {},
   "source": [
    "Prime"
   ]
  },
  {
   "cell_type": "code",
   "execution_count": 14,
   "id": "cb69a9b9",
   "metadata": {},
   "outputs": [
    {
     "name": "stdout",
     "output_type": "stream",
     "text": [
      "Enter The Number3\n",
      "3 is a Prime number\n"
     ]
    }
   ],
   "source": [
    "number = int(input(\"Enter The Number\"))\n",
    "if number > 1:\n",
    "    for i in range(2,int(number/2)+1):\n",
    "        if (number % i == 0):\n",
    "            print(number, \"is not a Prime Number\")\n",
    "            break\n",
    "    else:\n",
    "        print(number,\"is a Prime number\")\n",
    "else:\n",
    "    print(number,\"is not a Prime number\")\n"
   ]
  },
  {
   "cell_type": "markdown",
   "id": "eff69974",
   "metadata": {},
   "source": [
    "Fibonacci"
   ]
  },
  {
   "cell_type": "code",
   "execution_count": 15,
   "id": "062778e8",
   "metadata": {},
   "outputs": [
    {
     "name": "stdout",
     "output_type": "stream",
     "text": [
      "How many terms? 5\n",
      "Fibonacci sequence:\n",
      "0\n",
      "1\n",
      "1\n",
      "2\n",
      "3\n"
     ]
    }
   ],
   "source": [
    "nterms = int(input(\"How many terms? \"))\n",
    "\n",
    "n1, n2 = 0, 1\n",
    "count = 0\n",
    "\n",
    "\n",
    "if nterms <= 0:\n",
    "   print(\"Please enter a positive integer\")\n",
    "\n",
    "elif nterms == 1:\n",
    "   print(\"Fibonacci sequence upto\",nterms,\":\")\n",
    "   print(n1)\n",
    "\n",
    "else:\n",
    "   print(\"Fibonacci sequence:\")\n",
    "   while count < nterms:\n",
    "       print(n1)\n",
    "       nth = n1 + n2\n",
    "       n1 = n2\n",
    "       n2 = nth\n",
    "       count += 1\n"
   ]
  },
  {
   "cell_type": "markdown",
   "id": "5f4417cb",
   "metadata": {},
   "source": [
    "Multiplication Table"
   ]
  },
  {
   "cell_type": "code",
   "execution_count": 16,
   "id": "372458b2",
   "metadata": {},
   "outputs": [
    {
     "name": "stdout",
     "output_type": "stream",
     "text": [
      "Enter the number of which the user wants to print the multiplication table: 5\n",
      "The Multiplication Table of:  5\n",
      "5 x 1 = 5\n",
      "5 x 2 = 10\n",
      "5 x 3 = 15\n",
      "5 x 4 = 20\n",
      "5 x 5 = 25\n",
      "5 x 6 = 30\n",
      "5 x 7 = 35\n",
      "5 x 8 = 40\n",
      "5 x 9 = 45\n",
      "5 x 10 = 50\n"
     ]
    }
   ],
   "source": [
    "number = int(input (\"Enter the number of which the user wants to print the multiplication table: \"))         \n",
    "print (\"The Multiplication Table of: \", number)    \n",
    "for count in range(1, 11):      \n",
    "   print (number, 'x', count, '=', number * count)    \n"
   ]
  },
  {
   "cell_type": "markdown",
   "id": "cac9bcc6",
   "metadata": {},
   "source": [
    "A* Algorithm"
   ]
  },
  {
   "cell_type": "code",
   "execution_count": 18,
   "id": "82392dc6",
   "metadata": {},
   "outputs": [
    {
     "name": "stdout",
     "output_type": "stream",
     "text": [
      "Path found: ['A', 'F', 'G', 'I', 'J']\n"
     ]
    },
    {
     "data": {
      "text/plain": [
       "['A', 'F', 'G', 'I', 'J']"
      ]
     },
     "execution_count": 18,
     "metadata": {},
     "output_type": "execute_result"
    }
   ],
   "source": [
    "def aStarAlgo(start_node, stop_node):\n",
    "    open_set = set(start_node)\n",
    "    closed_set = set()\n",
    "    g = {}              \n",
    "    parents = {}         \n",
    "    \n",
    "    g[start_node] = 0\n",
    "   \n",
    "    parents[start_node] = start_node\n",
    "    while len(open_set) > 0:\n",
    "        n = None\n",
    "        \n",
    "        for v in open_set:\n",
    "            if n == None or g[v] + heuristic(v) < g[n] + heuristic(n):\n",
    "                n = v\n",
    "        if n == stop_node or Graph_nodes[n] == None:\n",
    "            pass\n",
    "        else:\n",
    "            for (m, weight) in get_neighbors(n):\n",
    "                \n",
    "                if m not in open_set and m not in closed_set:\n",
    "                    open_set.add(m)\n",
    "                    parents[m] = n\n",
    "                    g[m] = g[n] + weight\n",
    "                \n",
    "                else:\n",
    "                    if g[m] > g[n] + weight:\n",
    "                        \n",
    "                        g[m] = g[n] + weight\n",
    "                       \n",
    "                        parents[m] = n\n",
    "                        \n",
    "                        if m in closed_set:\n",
    "                            closed_set.remove(m)\n",
    "                            open_set.add(m)\n",
    "        if n == None:\n",
    "            print('Path does not exist!')\n",
    "            return None\n",
    "        \n",
    "        \n",
    "        if n == stop_node:\n",
    "            path = []\n",
    "            while parents[n] != n:\n",
    "                path.append(n)\n",
    "                n = parents[n]\n",
    "            path.append(start_node)\n",
    "            path.reverse()\n",
    "            print('Path found: {}'.format(path))\n",
    "            return path\n",
    "        \n",
    "        open_set.remove(n)\n",
    "        closed_set.add(n)\n",
    "    print('Path does not exist!')\n",
    "    return None\n",
    "\n",
    "\n",
    "def get_neighbors(v):\n",
    "    if v in Graph_nodes:\n",
    "        return Graph_nodes[v]\n",
    "    else:\n",
    "        return None\n",
    "   \n",
    "def heuristic(n):\n",
    "    H_dist = {\n",
    "        'A': 11,\n",
    "        'B': 6,\n",
    "        'C': 5,\n",
    "        'D': 7,\n",
    "        'E': 3,\n",
    "        'F': 6,\n",
    "        'G': 5,\n",
    "        'H': 3,\n",
    "        'I': 1,\n",
    "        'J': 0\n",
    "    }\n",
    "    return H_dist[n]\n",
    "\n",
    "\n",
    "Graph_nodes = {\n",
    "    'A': [('B', 6), ('F', 3)],\n",
    "    'B': [('A', 6), ('C', 3), ('D', 2)],\n",
    "    'C': [('B', 3), ('D', 1), ('E', 5)],\n",
    "    'D': [('B', 2), ('C', 1), ('E', 8)],\n",
    "    'E': [('C', 5), ('D', 8), ('I', 5), ('J', 5)],\n",
    "    'F': [('A', 3), ('G', 1), ('H', 7)],\n",
    "    'G': [('F', 1), ('I', 3)],\n",
    "    'H': [('F', 7), ('I', 2)],\n",
    "    'I': [('E', 5), ('G', 3), ('H', 2), ('J', 3)],\n",
    "}\n",
    "\n",
    "aStarAlgo('A', 'J')\n"
   ]
  },
  {
   "cell_type": "markdown",
   "id": "2760db9f",
   "metadata": {},
   "source": [
    "Hill Climbing Algorithm"
   ]
  },
  {
   "cell_type": "code",
   "execution_count": 19,
   "id": "913f3414",
   "metadata": {},
   "outputs": [
    {
     "name": "stdout",
     "output_type": "stream",
     "text": [
      "([1, 0, 3, 2], 1400)\n"
     ]
    }
   ],
   "source": [
    "import random\n",
    "\n",
    "def randomSolution(tsp):\n",
    "    cities = list(range(len(tsp)))\n",
    "    solution = []\n",
    "\n",
    "    for i in range(len(tsp)):\n",
    "        randomCity = cities[random.randint(0, len(cities) - 1)]\n",
    "        solution.append(randomCity)\n",
    "        cities.remove(randomCity)\n",
    "\n",
    "    return solution\n",
    "\n",
    "def routeLength(tsp, solution):\n",
    "    routeLength = 0\n",
    "    for i in range(len(solution)):\n",
    "        routeLength += tsp[solution[i - 1]][solution[i]]\n",
    "    return routeLength\n",
    "\n",
    "def getNeighbours(solution):\n",
    "    neighbours = []\n",
    "    for i in range(len(solution)):\n",
    "        for j in range(i + 1, len(solution)):\n",
    "            neighbour = solution.copy()\n",
    "            neighbour[i] = solution[j]\n",
    "            neighbour[j] = solution[i]\n",
    "            neighbours.append(neighbour)\n",
    "    return neighbours\n",
    "\n",
    "def getBestNeighbour(tsp, neighbours):\n",
    "    bestRouteLength = routeLength(tsp, neighbours[0])\n",
    "    bestNeighbour = neighbours[0]\n",
    "    for neighbour in neighbours:\n",
    "        currentRouteLength = routeLength(tsp, neighbour)\n",
    "        if currentRouteLength < bestRouteLength:\n",
    "            bestRouteLength = currentRouteLength\n",
    "            bestNeighbour = neighbour\n",
    "    return bestNeighbour, bestRouteLength\n",
    "\n",
    "def hillClimbing(tsp):\n",
    "    currentSolution = randomSolution(tsp)\n",
    "    currentRouteLength = routeLength(tsp, currentSolution)\n",
    "    neighbours = getNeighbours(currentSolution)\n",
    "    bestNeighbour, bestNeighbourRouteLength = getBestNeighbour(tsp, neighbours)\n",
    "\n",
    "    while bestNeighbourRouteLength < currentRouteLength:\n",
    "        currentSolution = bestNeighbour\n",
    "        currentRouteLength = bestNeighbourRouteLength\n",
    "        neighbours = getNeighbours(currentSolution)\n",
    "        bestNeighbour, bestNeighbourRouteLength = getBestNeighbour(tsp, neighbours)\n",
    "\n",
    "    return currentSolution, currentRouteLength\n",
    "\n",
    "def main():\n",
    "    tsp = [\n",
    "        [0, 400, 500, 300],\n",
    "        [400, 0, 300, 500],\n",
    "        [500, 300, 0, 400],\n",
    "        [300, 500, 400, 0]\n",
    "    ]\n",
    "\n",
    "    print(hillClimbing(tsp))\n",
    "\n",
    "if __name__ == \"__main__\":\n",
    "    main()\n"
   ]
  },
  {
   "cell_type": "markdown",
   "id": "0bed7ec5",
   "metadata": {},
   "source": [
    "output:\n",
    "We have four cities, each located in the corner of a rectangular shape. The long side of the rectangle is 400 kilometers (or whatever unit you like) long, while the short side is 300. That makes the diagonal 500 kilometers long. It seems obvious that the shortest routes actually travel the sides of this rectangle, which would make the length of the shortest route 2 x 400 + 2 x 300 = 1400 kilometers.\n"
   ]
  },
  {
   "cell_type": "markdown",
   "id": "a3e51bc7",
   "metadata": {},
   "source": [
    "Bidirectional Search"
   ]
  },
  {
   "cell_type": "code",
   "execution_count": 22,
   "id": "4122d9de",
   "metadata": {},
   "outputs": [
    {
     "name": "stdout",
     "output_type": "stream",
     "text": [
      "[0, 5, 6, 3, 4]\n"
     ]
    }
   ],
   "source": [
    "class Node:\n",
    "    def __init__(self, val, neighbors=[]):\n",
    "        self.val = val\n",
    "        self.neighbors = neighbors\n",
    "        self.visited_right = False  \n",
    "        self.visited_left = False  \n",
    "        self.parent_right = None  \n",
    "        self.parent_left = None  \n",
    "\n",
    "\n",
    "\n",
    "from collections import deque\n",
    "\n",
    "def bidirectional_search(s, t):\n",
    "    def extract_path(node):\n",
    "        \"\"\"return the path when both BFS's have met\"\"\"\n",
    "        node_copy = node\n",
    "        path = []\n",
    "\n",
    "        while node:\n",
    "            path.append(node.val)\n",
    "            node = node.parent_right\n",
    "            \n",
    "        path.reverse()\n",
    "        del path[-1]  \n",
    "            \n",
    "        while node_copy:\n",
    "            path.append(node_copy.val)\n",
    "            node_copy = node_copy.parent_left\n",
    "        return path\n",
    "        \n",
    "    q = deque([])\n",
    "    q.append(s)\n",
    "    q.append(t)\n",
    "    s.visited_right = True\n",
    "    t.visited_left = True\n",
    "\n",
    "    while len(q) > 0:\n",
    "        n = q.pop()\n",
    "            \n",
    "        if n.visited_left and n.visited_right:  \n",
    "            return extract_path(n)\n",
    "            \n",
    "        for node in n.neighbors:\n",
    "            if n.visited_left == True and not node.visited_left:\n",
    "                node.parent_left = n\n",
    "                node.visited_left = True\n",
    "                q.append(node)\n",
    "            if n.visited_right == True and not node.visited_right:\n",
    "                node.parent_right = n\n",
    "                node.visited_right = True\n",
    "                q.append(node)\n",
    "\n",
    "    \n",
    "    return False\n",
    "\n",
    "            \n",
    "n0 = Node(0)\n",
    "n1 = Node(1)\n",
    "n2 = Node(2)\n",
    "n3 = Node(3)\n",
    "n4 = Node(4)\n",
    "n5 = Node(5)\n",
    "n6 = Node(6)\n",
    "n7 = Node(7)\n",
    "n0.neighbors = [n1, n5]\n",
    "n1.neighbors = [n0, n2, n6]\n",
    "n2.neighbors = [n1]\n",
    "n3.neighbors = [n4, n6]\n",
    "n4.neighbors = [n3]\n",
    "n5.neighbors = [n0, n6]\n",
    "n6.neighbors = [n1, n3, n5, n7]\n",
    "n7.neighbors = [n6]\n",
    "print(bidirectional_search(n0, n4))\n"
   ]
  },
  {
   "cell_type": "markdown",
   "id": "fa8208ab",
   "metadata": {},
   "source": [
    "Tower of Hanoi"
   ]
  },
  {
   "cell_type": "code",
   "execution_count": 23,
   "id": "c81746a9",
   "metadata": {},
   "outputs": [
    {
     "name": "stdout",
     "output_type": "stream",
     "text": [
      "Enter the number of disks: 3\n",
      "Move disk 1 from rod A to rod C.\n",
      "Move disk 2 from rod A to rod B.\n",
      "Move disk 1 from rod C to rod B.\n",
      "Move disk 3 from rod A to rod C.\n",
      "Move disk 1 from rod B to rod A.\n",
      "Move disk 2 from rod B to rod C.\n",
      "Move disk 1 from rod A to rod C.\n"
     ]
    }
   ],
   "source": [
    "def tower_of_hanoi(disks, source, auxiliary, target):  \n",
    "    if(disks == 1):  \n",
    "        print('Move disk 1 from rod {} to rod {}.'.format(source, target))  \n",
    "        return  \n",
    "    \n",
    "    tower_of_hanoi(disks - 1, source, target, auxiliary)  \n",
    "    print('Move disk {} from rod {} to rod {}.'.format(disks, source, target))  \n",
    "    tower_of_hanoi(disks - 1, auxiliary, source, target)  \n",
    "  \n",
    "  \n",
    "disks = int(input('Enter the number of disks: '))  \n",
    "  \n",
    "tower_of_hanoi(disks, 'A', 'B', 'C')   \n"
   ]
  },
  {
   "cell_type": "markdown",
   "id": "48754829",
   "metadata": {},
   "source": [
    "8 Puzzle"
   ]
  },
  {
   "cell_type": "code",
   "execution_count": 25,
   "id": "62702a53",
   "metadata": {},
   "outputs": [
    {
     "name": "stdout",
     "output_type": "stream",
     "text": [
      "1  2  3  \n",
      "5  6  0  \n",
      "7  8  4  \n",
      "\n",
      "1  2  3  \n",
      "5  0  6  \n",
      "7  8  4  \n",
      "\n",
      "1  2  3  \n",
      "5  8  6  \n",
      "7  0  4  \n",
      "\n",
      "1  2  3  \n",
      "5  8  6  \n",
      "0  7  4  \n",
      "\n"
     ]
    }
   ],
   "source": [
    "import copy  \n",
    "  \n",
    " \n",
    "from heapq import heappush, heappop  \n",
    "  \n",
    "n = 3  \n",
    "    \n",
    "rows = [ 1, 0, -1, 0 ]  \n",
    "cols = [ 0, -1, 0, 1 ]  \n",
    "    \n",
    "class priorityQueue:  \n",
    "      \n",
    "   \n",
    "    def __init__(self):  \n",
    "        self.heap = []  \n",
    "  \n",
    "     \n",
    "    def push(self, key):  \n",
    "        heappush(self.heap, key)  \n",
    "  \n",
    "     \n",
    "    def pop(self):  \n",
    "        return heappop(self.heap)  \n",
    "  \n",
    "      \n",
    "    def empty(self):  \n",
    "        if not self.heap:  \n",
    "            return True  \n",
    "        else:  \n",
    "            return False  \n",
    "  \n",
    " \n",
    "class nodes:  \n",
    "      \n",
    "    def __init__(self, parent, mats, empty_tile_posi,  \n",
    "                costs, levels):  \n",
    "                      \n",
    "         \n",
    "        self.parent = parent  \n",
    "  \n",
    "         \n",
    "        self.mats = mats  \n",
    "  \n",
    "         \n",
    "        self.empty_tile_posi = empty_tile_posi  \n",
    "  \n",
    "         \n",
    "        self.costs = costs  \n",
    "  \n",
    "         \n",
    "        self.levels = levels  \n",
    "  \n",
    "     \n",
    "    def __lt__(self, nxt):  \n",
    "        return self.costs < nxt.costs  \n",
    "  \n",
    "def calculateCosts(mats, final) -> int:  \n",
    "      \n",
    "    count = 0  \n",
    "    for i in range(n):  \n",
    "        for j in range(n):  \n",
    "            if ((mats[i][j]) and  \n",
    "                (mats[i][j] != final[i][j])):  \n",
    "                count += 1  \n",
    "                  \n",
    "    return count  \n",
    "  \n",
    "def newNodes(mats, empty_tile_posi, new_empty_tile_posi,  \n",
    "            levels, parent, final) -> nodes:  \n",
    "                  \n",
    "   \n",
    "    new_mats = copy.deepcopy(mats)  \n",
    "  \n",
    "     \n",
    "    x1 = empty_tile_posi[0]  \n",
    "    y1 = empty_tile_posi[1]  \n",
    "    x2 = new_empty_tile_posi[0]  \n",
    "    y2 = new_empty_tile_posi[1]  \n",
    "    new_mats[x1][y1], new_mats[x2][y2] = new_mats[x2][y2], new_mats[x1][y1]  \n",
    "  \n",
    "    \n",
    "    costs = calculateCosts(new_mats, final)  \n",
    "  \n",
    "    new_nodes = nodes(parent, new_mats, new_empty_tile_posi,  \n",
    "                    costs, levels)  \n",
    "    return new_nodes  \n",
    "  \n",
    " \n",
    "def printMatsrix(mats):  \n",
    "      \n",
    "    for i in range(n):  \n",
    "        for j in range(n):  \n",
    "            print(\"%d \" % (mats[i][j]), end = \" \")  \n",
    "              \n",
    "        print()  \n",
    "  \n",
    "\n",
    "def isSafe(x, y):  \n",
    "      \n",
    "    return x >= 0 and x < n and y >= 0 and y < n  \n",
    "  \n",
    "\n",
    "def printPath(root):  \n",
    "      \n",
    "    if root == None:  \n",
    "        return  \n",
    "      \n",
    "    printPath(root.parent)  \n",
    "    printMatsrix(root.mats)  \n",
    "    print()  \n",
    "  \n",
    "  \n",
    "def solve(initial, empty_tile_posi, final):  \n",
    "      \n",
    "   \n",
    "    pq = priorityQueue()  \n",
    "  \n",
    "   \n",
    "    costs = calculateCosts(initial, final)  \n",
    "    root = nodes(None, initial,  \n",
    "                empty_tile_posi, costs, 0)  \n",
    "  \n",
    "     \n",
    "    pq.push(root)  \n",
    "  \n",
    "  \n",
    "    while not pq.empty():  \n",
    "  \n",
    "         \n",
    "        minimum = pq.pop()  \n",
    "  \n",
    "        \n",
    "        if minimum.costs == 0:  \n",
    "              \n",
    "             \n",
    "            printPath(minimum)  \n",
    "            return  \n",
    "  \n",
    "        \n",
    "        for i in range(n):  \n",
    "            new_tile_posi = [  \n",
    "                minimum.empty_tile_posi[0] + rows[i],  \n",
    "                minimum.empty_tile_posi[1] + cols[i], ]  \n",
    "                  \n",
    "            if isSafe(new_tile_posi[0], new_tile_posi[1]):  \n",
    "                  \n",
    "                 \n",
    "                child = newNodes(minimum.mats,  \n",
    "                                minimum.empty_tile_posi,  \n",
    "                                new_tile_posi,  \n",
    "                                minimum.levels + 1,  \n",
    "                                minimum, final,)  \n",
    "  \n",
    "                 \n",
    "                pq.push(child)  \n",
    "  \n",
    "  \n",
    "initial = [ [ 1, 2, 3 ],  \n",
    "            [ 5, 6, 0 ],  \n",
    "            [ 7, 8, 4 ] ]  \n",
    "  \n",
    "\n",
    "final = [ [ 1, 2, 3 ],  \n",
    "        [ 5, 8, 6 ],  \n",
    "        [ 0, 7, 4 ] ]  \n",
    "  \n",
    " \n",
    "empty_tile_posi = [ 1, 2 ]  \n",
    "  \n",
    "  \n",
    "solve(initial, empty_tile_posi, final) "
   ]
  },
  {
   "cell_type": "markdown",
   "id": "2b88c2a5",
   "metadata": {},
   "source": [
    "Swap 2 Numbers"
   ]
  },
  {
   "cell_type": "code",
   "execution_count": 26,
   "id": "0c505df4",
   "metadata": {},
   "outputs": [
    {
     "name": "stdout",
     "output_type": "stream",
     "text": [
      "Please enter value for P: 4\n",
      "Please enter value for Q: 5\n",
      "The Value of P after swapping:  5\n",
      "The Value of Q after swapping:  4\n"
     ]
    }
   ],
   "source": [
    "P = int( input(\"Please enter value for P: \"))  \n",
    "Q = int( input(\"Please enter value for Q: \"))  \n",
    "   \n",
    "P = P + Q    \n",
    "Q = P - Q   \n",
    "P = P - Q  \n",
    "   \n",
    "print (\"The Value of P after swapping: \", P)  \n",
    "print (\"The Value of Q after swapping: \", Q)  \n"
   ]
  },
  {
   "cell_type": "markdown",
   "id": "16a28bed",
   "metadata": {},
   "source": [
    "Leap Year"
   ]
  },
  {
   "cell_type": "code",
   "execution_count": 28,
   "id": "53839863",
   "metadata": {},
   "outputs": [
    {
     "name": "stdout",
     "output_type": "stream",
     "text": [
      "Enter the number: 2018\n",
      "Given Year is not a leap Year\n"
     ]
    }
   ],
   "source": [
    "def CheckLeap(Year):  \n",
    "    \n",
    "  if((Year % 400 == 0) or  \n",
    "     (Year % 100 != 0) and  \n",
    "     (Year % 4 == 0)):   \n",
    "    print(\"Given Year is a leap Year\");  \n",
    " \n",
    "  else:  \n",
    "    print (\"Given Year is not a leap Year\")  \n",
    " \n",
    "Year = int(input(\"Enter the number: \"))  \n",
    "  \n",
    "CheckLeap(Year)\n"
   ]
  },
  {
   "cell_type": "markdown",
   "id": "29293abe",
   "metadata": {},
   "source": [
    "Armstrong Number"
   ]
  },
  {
   "cell_type": "code",
   "execution_count": 31,
   "id": "0ffd12d8",
   "metadata": {},
   "outputs": [
    {
     "name": "stdout",
     "output_type": "stream",
     "text": [
      "Enter a number: 153\n",
      "153 is an Armstrong number\n"
     ]
    }
   ],
   "source": [
    "num = int(input(\"Enter a number: \"))\n",
    "\n",
    "\n",
    "sum = 0\n",
    "\n",
    "\n",
    "temp = num\n",
    "while temp > 0:\n",
    "   digit = temp % 10\n",
    "   sum += digit ** 3\n",
    "   temp //= 10\n",
    "\n",
    "\n",
    "if num == sum:\n",
    "   print(num,\"is an Armstrong number\")\n",
    "else:\n",
    "   print(num,\"is not an Armstrong number\")\n"
   ]
  },
  {
   "cell_type": "markdown",
   "id": "bb4629c2",
   "metadata": {},
   "source": [
    "Calender"
   ]
  },
  {
   "cell_type": "code",
   "execution_count": 32,
   "id": "93e9106d",
   "metadata": {},
   "outputs": [
    {
     "name": "stdout",
     "output_type": "stream",
     "text": [
      "    October 2023\n",
      "Mo Tu We Th Fr Sa Su\n",
      "                   1\n",
      " 2  3  4  5  6  7  8\n",
      " 9 10 11 12 13 14 15\n",
      "16 17 18 19 20 21 22\n",
      "23 24 25 26 27 28 29\n",
      "30 31\n",
      "\n"
     ]
    }
   ],
   "source": [
    "import calendar\n",
    "\n",
    "yy = 2023  # year\n",
    "mm = 10    # month\n",
    "\n",
    "print(calendar.month(yy, mm))\n"
   ]
  },
  {
   "cell_type": "markdown",
   "id": "3888092d",
   "metadata": {},
   "source": [
    "Calculator"
   ]
  },
  {
   "cell_type": "code",
   "execution_count": 34,
   "id": "8e0e953e",
   "metadata": {},
   "outputs": [
    {
     "name": "stdout",
     "output_type": "stream",
     "text": [
      "Select operation.\n",
      "1.Add\n",
      "2.Subtract\n",
      "3.Multiply\n",
      "4.Divide\n",
      "Enter choice(1/2/3/4): 3\n",
      "Enter first number: 66\n",
      "Enter second number: 2\n",
      "66.0 * 2.0 = 132.0\n",
      "Let's do next calculation? (yes/no): no\n"
     ]
    }
   ],
   "source": [
    "def add(x, y):\n",
    "    return x + y\n",
    "\n",
    "\n",
    "def subtract(x, y):\n",
    "    return x - y\n",
    "\n",
    "def multiply(x, y):\n",
    "    return x * y\n",
    "\n",
    "\n",
    "def divide(x, y):\n",
    "    return x / y\n",
    "\n",
    "\n",
    "print(\"Select operation.\")\n",
    "print(\"1.Add\")\n",
    "print(\"2.Subtract\")\n",
    "print(\"3.Multiply\")\n",
    "print(\"4.Divide\")\n",
    "\n",
    "while True:\n",
    "    \n",
    "    choice = input(\"Enter choice(1/2/3/4): \")\n",
    "\n",
    "    \n",
    "    if choice in ('1', '2', '3', '4'):\n",
    "        try:\n",
    "            num1 = float(input(\"Enter first number: \"))\n",
    "            num2 = float(input(\"Enter second number: \"))\n",
    "        except ValueError:\n",
    "            print(\"Invalid input. Please enter a number.\")\n",
    "            continue\n",
    "\n",
    "        if choice == '1':\n",
    "            print(num1, \"+\", num2, \"=\", add(num1, num2))\n",
    "\n",
    "        elif choice == '2':\n",
    "            print(num1, \"-\", num2, \"=\", subtract(num1, num2))\n",
    "\n",
    "        elif choice == '3':\n",
    "            print(num1, \"*\", num2, \"=\", multiply(num1, num2))\n",
    "\n",
    "        elif choice == '4':\n",
    "            print(num1, \"/\", num2, \"=\", divide(num1, num2))\n",
    "        \n",
    "        \n",
    "        next_calculation = input(\"Let's do next calculation? (yes/no): \")\n",
    "        if next_calculation == \"no\":\n",
    "          break\n",
    "    else:\n",
    "        print(\"Invalid Input\")\n"
   ]
  },
  {
   "cell_type": "markdown",
   "id": "4bed550e",
   "metadata": {},
   "source": [
    "Reverse a number using a while loop"
   ]
  },
  {
   "cell_type": "code",
   "execution_count": 35,
   "id": "edeade8d",
   "metadata": {},
   "outputs": [
    {
     "name": "stdout",
     "output_type": "stream",
     "text": [
      "Reversed Number: 4321\n"
     ]
    }
   ],
   "source": [
    "num = 1234\n",
    "reversed_num = 0\n",
    "\n",
    "while num != 0:\n",
    "    digit = num % 10\n",
    "    reversed_num = reversed_num * 10 + digit\n",
    "    num //= 10\n",
    "\n",
    "print(\"Reversed Number: \" + str(reversed_num))"
   ]
  },
  {
   "cell_type": "markdown",
   "id": "48db80b9",
   "metadata": {},
   "source": [
    "Countdown Time"
   ]
  },
  {
   "cell_type": "code",
   "execution_count": 36,
   "id": "f1404c55",
   "metadata": {},
   "outputs": [
    {
     "name": "stdout",
     "output_type": "stream",
     "text": [
      "stop1\n"
     ]
    }
   ],
   "source": [
    "import time\n",
    "\n",
    "def countdown(time_sec):\n",
    "    while time_sec:\n",
    "        mins, secs = divmod(time_sec, 60)\n",
    "        timeformat = '{:02d}:{:02d}'.format(mins, secs)\n",
    "        print(timeformat, end='\\r')\n",
    "        time.sleep(1)\n",
    "        time_sec -= 1\n",
    "\n",
    "    print(\"stop\")\n",
    "\n",
    "countdown(5)"
   ]
  },
  {
   "cell_type": "code",
   "execution_count": null,
   "id": "efe3a35e",
   "metadata": {},
   "outputs": [],
   "source": []
  }
 ],
 "metadata": {
  "kernelspec": {
   "display_name": "Python 3",
   "language": "python",
   "name": "python3"
  },
  "language_info": {
   "codemirror_mode": {
    "name": "ipython",
    "version": 3
   },
   "file_extension": ".py",
   "mimetype": "text/x-python",
   "name": "python",
   "nbconvert_exporter": "python",
   "pygments_lexer": "ipython3",
   "version": "3.8.8"
  }
 },
 "nbformat": 4,
 "nbformat_minor": 5
}
